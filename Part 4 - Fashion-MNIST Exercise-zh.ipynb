{
 "cells": [
  {
   "cell_type": "markdown",
   "metadata": {},
   "source": [
    "# 分类 Fashion-MNIST 数据集\n",
    "\n",
    "现在轮到你来构建一个神经网络了。你将使用的是 [Fashion-MNIST 数据集](https://github.com/zalandoresearch/fashion-mnist)，这是 MNIST 数据集的替代品。对于神经网络而言，原始的 MNIST 数据集体量太小，因而你可以轻易达到 97% 以上的准确率。而 Fashion-MNIST 数据集是一组有关衣物的 28x28 灰阶图像。这个数据集比 MNIST 复杂得多，因此你能更好地判断神经网络的性能，它也更加接近你在现实世界中使用的数据集。\n",
    "\n",
    "<img src='assets/fashion-mnist-sprite.png' width=500px>\n",
    "\n",
    "在这个 notebook 中，你将构建专属于你的神经网络。在大多数情况下，你可以直接复制粘贴第三部分的代码，但这样一来你很难学到知识。因此我们推荐你自己编写代码来运行程序，这十分重要。不过在完成这个任务时，你也可以随时查阅和参考之前的 notebook。\n",
    "\n",
    "首先，我们通过 torchvision 来加载数据集。"
   ]
  },
  {
   "cell_type": "code",
   "execution_count": 1,
   "metadata": {},
   "outputs": [],
   "source": [
    "import torch\n",
    "from torchvision import datasets, transforms\n",
    "import helper\n",
    "\n",
    "# Define a transform to normalize the data\n",
    "transform = transforms.Compose([transforms.ToTensor(),\n",
    "                                transforms.Normalize((0.5, ), (0.5, ))])\n",
    "# Download and load the training data\n",
    "trainset = datasets.FashionMNIST('F_MNIST_data/', download=True, train=True, transform=transform)\n",
    "trainloader = torch.utils.data.DataLoader(trainset, batch_size=64, shuffle=True)\n",
    "\n",
    "# Download and load the test data\n",
    "testset = datasets.FashionMNIST('F_MNIST_data/', download=True, train=False, transform=transform)\n",
    "testloader = torch.utils.data.DataLoader(testset, batch_size=64, shuffle=True)"
   ]
  },
  {
   "cell_type": "markdown",
   "metadata": {},
   "source": [
    "在这里，我们能看到其中一张图片。"
   ]
  },
  {
   "cell_type": "code",
   "execution_count": 2,
   "metadata": {},
   "outputs": [
    {
     "data": {
      "image/png": "[encoded data removed]",
      "text/plain": [
       "<Figure size 640x480 with 1 Axes>"
      ]
     },
     "metadata": {},
     "output_type": "display_data"
    }
   ],
   "source": [
    "image, label = next(iter(trainloader))\n",
    "helper.imshow(image[0,:]);"
   ]
  },
  {
   "cell_type": "markdown",
   "metadata": {},
   "source": [
    "在加载数据之后，我们应该导入一些必要的包了。"
   ]
  },
  {
   "cell_type": "code",
   "execution_count": 3,
   "metadata": {},
   "outputs": [],
   "source": [
    "%matplotlib inline\n",
    "%config InlineBackend.figure_format = 'retina'\n",
    "\n",
    "import matplotlib.pyplot as plt\n",
    "import numpy as np\n",
    "import time\n",
    "\n",
    "import torch\n",
    "from torch import nn\n",
    "from torch import optim\n",
    "import torch.nn.functional as F\n",
    "from torch.autograd import Variable\n",
    "from torchvision import datasets, transforms\n",
    "\n",
    "import helper"
   ]
  },
  {
   "cell_type": "markdown",
   "metadata": {},
   "source": [
    "## 构建网络\n",
    "\n",
    "在这里，你应该定义你的网络。如同 MNIST 数据集一样，这里的每张图片的像素为 28x28，共有 784 个像素点和 10 个类。你至少需要添加一个隐藏层。对于这些层，我们推荐你使用 ReLU 激活函数，并通过前向传播来返回 logits。层的数量和大小都由你来决定。"
   ]
  },
  {
   "cell_type": "code",
   "execution_count": 9,
   "metadata": {},
   "outputs": [
    {
     "data": {
      "text/plain": [
       "Network(\n",
       "  (fc1): Linear(in_features=784, out_features=512, bias=True)\n",
       "  (fc2): Linear(in_features=512, out_features=256, bias=True)\n",
       "  (fc3): Linear(in_features=256, out_features=128, bias=True)\n",
       "  (fc4): Linear(in_features=128, out_features=64, bias=True)\n",
       "  (fc5): Linear(in_features=64, out_features=10, bias=True)\n",
       ")"
      ]
     },
     "execution_count": 9,
     "metadata": {},
     "output_type": "execute_result"
    }
   ],
   "source": [
    "# TODO: Define your network architecture here\n",
    "class Network(nn.Module):\n",
    "    def __init__(self):\n",
    "        super().__init__()\n",
    "        # Defining the layers, 128, 64, 10 units each\n",
    "        self.fc1 = nn.Linear(784, 512)\n",
    "        self.fc2 = nn.Linear(512, 256)\n",
    "        self.fc3 = nn.Linear(256, 128)\n",
    "        self.fc4 = nn.Linear(128, 64)\n",
    "        # Output layer, 10 units - one for each digit\n",
    "        self.fc5 = nn.Linear(64, 10)\n",
    "        \n",
    "    def forward(self, x):\n",
    "        ''' Forward pass through the network, returns the output logits '''\n",
    "        \n",
    "        x = self.fc1(x)\n",
    "        x = F.relu(x)\n",
    "        x = self.fc2(x)\n",
    "        x = F.relu(x)\n",
    "        x = self.fc3(x)\n",
    "        x = F.relu(x)\n",
    "        x = self.fc4(x)\n",
    "        x = F.relu(x)\n",
    "        x = self.fc5(x)\n",
    "        \n",
    "        return x\n",
    "    \n",
    "    def predict(self, x):\n",
    "        ''' This function for predicts classes by calculating the softmax '''\n",
    "        logits = self.forward(x)\n",
    "        return F.softmax(logits, dim=1)\n",
    "\n",
    "net = Network()\n",
    "net"
   ]
  },
  {
   "cell_type": "markdown",
   "metadata": {},
   "source": [
    "# 训练网络\n",
    "\n",
    "现在，你应该构建你的网络并训练它了。首先，你需要定义[条件](http://pytorch.org/docs/master/nn.html#loss-functions)（比如 `nn.CrossEntropyLoss`）以及[优化器](http://pytorch.org/docs/master/optim.html)（比如 `optim.SGD` 或 `optim.Adam`）。\n",
    "\n",
    "接着，你需要编写训练代码。请记住，训练传播是一个十分简明的过程：\n",
    "\n",
    "* 在网络中进行前向传播来获取 logits \n",
    "* 使用 logits 来计算损失\n",
    "* 使用 `loss.backward()` 在网络中进行后向传播来计算梯度\n",
    "* 使用优化器执行一个学习步来更新权重\n",
    "\n",
    "通过调整超参数（隐藏单元、学习速率等），你应该可以将训练损失控制在 0.4 以下。"
   ]
  },
  {
   "cell_type": "code",
   "execution_count": 10,
   "metadata": {},
   "outputs": [],
   "source": [
    "# TODO: Create the network, define the criterion and optimizer\n",
    "net = Network()\n",
    "criterion = nn.CrossEntropyLoss()\n",
    "optimizer = optim.Adam(net.parameters(), lr=0.001)"
   ]
  },
  {
   "cell_type": "code",
   "execution_count": 11,
   "metadata": {},
   "outputs": [
    {
     "name": "stdout",
     "output_type": "stream",
     "text": [
      "Epoch: 1/2 Loss: 1.2951 Test accuracy: 0.6784\n",
      "Epoch: 1/2 Loss: 0.7323 Test accuracy: 0.7319\n",
      "Epoch: 1/2 Loss: 0.6467 Test accuracy: 0.7376\n",
      "Epoch: 1/2 Loss: 0.5914 Test accuracy: 0.7730\n",
      "Epoch: 1/2 Loss: 0.5458 Test accuracy: 0.8003\n",
      "Epoch: 1/2 Loss: 0.5039 Test accuracy: 0.7982\n",
      "Epoch: 1/2 Loss: 0.5355 Test accuracy: 0.8076\n",
      "Epoch: 1/2 Loss: 0.5080 Test accuracy: 0.8174\n",
      "Epoch: 1/2 Loss: 0.5285 Test accuracy: 0.8121\n",
      "Epoch: 1/2 Loss: 0.5018 Test accuracy: 0.8189\n",
      "Epoch: 1/2 Loss: 0.4887 Test accuracy: 0.8231\n",
      "Epoch: 1/2 Loss: 0.4986 Test accuracy: 0.8215\n",
      "Epoch: 1/2 Loss: 0.4644 Test accuracy: 0.8236\n",
      "Epoch: 1/2 Loss: 0.4574 Test accuracy: 0.8330\n",
      "Epoch: 1/2 Loss: 0.4449 Test accuracy: 0.8180\n",
      "Epoch: 1/2 Loss: 0.4426 Test accuracy: 0.8149\n",
      "Epoch: 1/2 Loss: 0.4712 Test accuracy: 0.8269\n",
      "Epoch: 1/2 Loss: 0.4379 Test accuracy: 0.8435\n",
      "Epoch: 1/2 Loss: 0.4333 Test accuracy: 0.8404\n",
      "Epoch: 1/2 Loss: 0.4212 Test accuracy: 0.8372\n",
      "Epoch: 1/2 Loss: 0.4238 Test accuracy: 0.8367\n",
      "Epoch: 1/2 Loss: 0.4437 Test accuracy: 0.8297\n",
      "Epoch: 1/2 Loss: 0.4034 Test accuracy: 0.8425\n",
      "Epoch: 2/2 Loss: 0.3864 Test accuracy: 0.8449\n",
      "Epoch: 2/2 Loss: 0.3791 Test accuracy: 0.8482\n",
      "Epoch: 2/2 Loss: 0.3837 Test accuracy: 0.8464\n",
      "Epoch: 2/2 Loss: 0.3975 Test accuracy: 0.8420\n",
      "Epoch: 2/2 Loss: 0.4144 Test accuracy: 0.8389\n",
      "Epoch: 2/2 Loss: 0.4139 Test accuracy: 0.8324\n",
      "Epoch: 2/2 Loss: 0.4150 Test accuracy: 0.8526\n",
      "Epoch: 2/2 Loss: 0.4122 Test accuracy: 0.8391\n",
      "Epoch: 2/2 Loss: 0.3542 Test accuracy: 0.8359\n",
      "Epoch: 2/2 Loss: 0.3931 Test accuracy: 0.8421\n",
      "Epoch: 2/2 Loss: 0.3736 Test accuracy: 0.8463\n",
      "Epoch: 2/2 Loss: 0.3776 Test accuracy: 0.8472\n",
      "Epoch: 2/2 Loss: 0.3837 Test accuracy: 0.8561\n",
      "Epoch: 2/2 Loss: 0.3603 Test accuracy: 0.8508\n",
      "Epoch: 2/2 Loss: 0.3684 Test accuracy: 0.8385\n",
      "Epoch: 2/2 Loss: 0.3877 Test accuracy: 0.8410\n",
      "Epoch: 2/2 Loss: 0.3833 Test accuracy: 0.8498\n",
      "Epoch: 2/2 Loss: 0.3896 Test accuracy: 0.8537\n",
      "Epoch: 2/2 Loss: 0.3922 Test accuracy: 0.8415\n",
      "Epoch: 2/2 Loss: 0.3826 Test accuracy: 0.8428\n",
      "Epoch: 2/2 Loss: 0.3777 Test accuracy: 0.8625\n",
      "Epoch: 2/2 Loss: 0.3861 Test accuracy: 0.8466\n",
      "Epoch: 2/2 Loss: 0.3822 Test accuracy: 0.8594\n"
     ]
    }
   ],
   "source": [
    "epochs = 2\n",
    "steps = 0\n",
    "running_loss = 0\n",
    "print_every = 40\n",
    "\n",
    "for e in range(epochs):\n",
    "    for images, labels in trainloader:\n",
    "        steps += 1\n",
    "        # 将MNIST图像扁平化为784长度的向量\n",
    "        images = images.view(images.size()[0], 784)\n",
    "        \n",
    "        # 将图像和标签包装在变量中，以便计算梯度\n",
    "        inputs = Variable(images)\n",
    "        targets = Variable(labels)\n",
    "        optimizer.zero_grad()\n",
    "        \n",
    "        output = net.forward(inputs)\n",
    "        loss = criterion(output, targets)\n",
    "        loss.backward()\n",
    "        optimizer.step()\n",
    "        \n",
    "        running_loss += loss.item()\n",
    "        \n",
    "        if steps % print_every == 0:\n",
    "            # 测试准确率\n",
    "            accuracy = 0\n",
    "            with torch.no_grad():  # 禁用梯度计算\n",
    "                for ii, (images, labels) in enumerate(testloader):\n",
    "                    images = images.view(images.size()[0], 784)\n",
    "                    inputs = Variable(images)\n",
    "\n",
    "                    predicted = net.predict(inputs).data\n",
    "                    equality = (labels == predicted.max(1)[1])\n",
    "                    accuracy += equality.type_as(torch.FloatTensor()).mean()\n",
    "            \n",
    "            print(\"Epoch: {}/{}\".format(e+1, epochs),\n",
    "                  \"Loss: {:.4f}\".format(running_loss/print_every),\n",
    "                  \"Test accuracy: {:.4f}\".format(accuracy/(ii+1)))\n",
    "            running_loss = 0\n"
   ]
  },
  {
   "cell_type": "code",
   "execution_count": 13,
   "metadata": {},
   "outputs": [
    {
     "data": {
      "image/png": "[encoded data removed]",
      "text/plain": [
       "<Figure size 600x900 with 2 Axes>"
      ]
     },
     "metadata": {
      "image/png": {
       "height": 327,
       "width": 589
      }
     },
     "output_type": "display_data"
    }
   ],
   "source": [
    "# Test out your network!\n",
    "\n",
    "dataiter = iter(testloader)\n",
    "images, labels = next(dataiter)\n",
    "img = images[0]\n",
    "# Convert 2D image to 1D vector\n",
    "img = img.resize_(1, 784)\n",
    "\n",
    "# TODO: Calculate the class probabilities (softmax) for img\n",
    "ps = net.predict(Variable(img.resize_(1, 784)))\n",
    "\n",
    "# Plot the image and probabilities\n",
    "helper.view_classify(img.resize_(1, 28, 28), ps)"
   ]
  },
  {
   "cell_type": "markdown",
   "metadata": {},
   "source": [
    "训练好神经网络之后，你应该希望保存这个网络以便下次加载，而不是重新训练。很明显，每次使用时都重新训练网络并不现实。在实际操作中，你将会在训练网络之后将模型保存，接着重新加载网络以进行训练或是预测。在下一部分，我将为你展示如何保存和加载训练好的模型。"
   ]
  }
 ],
 "metadata": {
  "kernelspec": {
   "display_name": "conda_pytorch_p310",
   "language": "python",
   "name": "conda_pytorch_p310"
  },
  "language_info": {
   "codemirror_mode": {
    "name": "ipython",
    "version": 3
   },
   "file_extension": ".py",
   "mimetype": "text/x-python",
   "name": "python",
   "nbconvert_exporter": "python",
   "pygments_lexer": "ipython3",
   "version": "3.10.14"
  }
 },
 "nbformat": 4,
 "nbformat_minor": 4
}
